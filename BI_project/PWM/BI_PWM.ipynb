{
  "nbformat": 4,
  "nbformat_minor": 0,
  "metadata": {
    "colab": {
      "provenance": []
    },
    "kernelspec": {
      "name": "python3",
      "display_name": "Python 3"
    },
    "language_info": {
      "name": "python"
    }
  },
  "cells": [
    {
      "cell_type": "code",
      "execution_count": null,
      "metadata": {
        "colab": {
          "base_uri": "https://localhost:8080/"
        },
        "id": "6uGGi4Li09bA",
        "outputId": "65188c93-9391-4a1f-9205-fa85973ebdaa"
      },
      "outputs": [
        {
          "output_type": "stream",
          "name": "stdout",
          "text": [
            "Drive already mounted at /content/drive; to attempt to forcibly remount, call drive.mount(\"/content/drive\", force_remount=True).\n"
          ]
        }
      ],
      "source": [
        "# Mount\n",
        "from google.colab import drive\n",
        "drive.mount('/content/drive')"
      ]
    },
    {
      "cell_type": "markdown",
      "source": [
        "# Install logomaker"
      ],
      "metadata": {
        "id": "U3TWn8C3_7e5"
      }
    },
    {
      "cell_type": "code",
      "source": [
        "!pip install logomaker"
      ],
      "metadata": {
        "colab": {
          "base_uri": "https://localhost:8080/"
        },
        "id": "C8qgoCuLPgf6",
        "outputId": "6fa26c9a-29d8-4c21-98b7-eef2cc65ba17"
      },
      "execution_count": null,
      "outputs": [
        {
          "output_type": "stream",
          "name": "stdout",
          "text": [
            "Looking in indexes: https://pypi.org/simple, https://us-python.pkg.dev/colab-wheels/public/simple/\n",
            "Collecting logomaker\n",
            "  Downloading logomaker-0.8-py2.py3-none-any.whl (11.8 MB)\n",
            "\u001b[K     |████████████████████████████████| 11.8 MB 8.1 MB/s \n",
            "\u001b[?25hRequirement already satisfied: pandas in /usr/local/lib/python3.7/dist-packages (from logomaker) (1.3.5)\n",
            "Requirement already satisfied: numpy in /usr/local/lib/python3.7/dist-packages (from logomaker) (1.21.6)\n",
            "Requirement already satisfied: matplotlib in /usr/local/lib/python3.7/dist-packages (from logomaker) (3.2.2)\n",
            "Requirement already satisfied: kiwisolver>=1.0.1 in /usr/local/lib/python3.7/dist-packages (from matplotlib->logomaker) (1.4.4)\n",
            "Requirement already satisfied: cycler>=0.10 in /usr/local/lib/python3.7/dist-packages (from matplotlib->logomaker) (0.11.0)\n",
            "Requirement already satisfied: pyparsing!=2.0.4,!=2.1.2,!=2.1.6,>=2.0.1 in /usr/local/lib/python3.7/dist-packages (from matplotlib->logomaker) (3.0.9)\n",
            "Requirement already satisfied: python-dateutil>=2.1 in /usr/local/lib/python3.7/dist-packages (from matplotlib->logomaker) (2.8.2)\n",
            "Requirement already satisfied: typing-extensions in /usr/local/lib/python3.7/dist-packages (from kiwisolver>=1.0.1->matplotlib->logomaker) (4.1.1)\n",
            "Requirement already satisfied: six>=1.5 in /usr/local/lib/python3.7/dist-packages (from python-dateutil>=2.1->matplotlib->logomaker) (1.15.0)\n",
            "Requirement already satisfied: pytz>=2017.3 in /usr/local/lib/python3.7/dist-packages (from pandas->logomaker) (2022.6)\n",
            "Installing collected packages: logomaker\n",
            "Successfully installed logomaker-0.8\n"
          ]
        }
      ]
    },
    {
      "cell_type": "code",
      "source": [
        "# import required modules\n",
        "import pandas as pd\n",
        "import math\n",
        "import logomaker\n",
        "import matplotlib.pyplot as plt"
      ],
      "metadata": {
        "id": "Y1W4_RMDfToj"
      },
      "execution_count": null,
      "outputs": []
    },
    {
      "cell_type": "markdown",
      "source": [
        "# MakePWM"
      ],
      "metadata": {
        "id": "fygAgAOP_2rb"
      }
    },
    {
      "cell_type": "code",
      "source": [
        "def calculate_PWM(n, total, bg, k):\n",
        "    f = (float(n) + bg*k)/(float(total) + k)\n",
        "    W = math.log(f/bg)\n",
        "    return W\n",
        "\n",
        "def MakePWM(PSCM, bg, k):\n",
        "    # convert PSCM to PWM\n",
        "    total = PSCM.sum()[1] # total count\n",
        "\n",
        "    for col in range(1,11):\n",
        "        for index in 'ACGT':\n",
        "            if index in 'GC':\n",
        "                insert_bg = bg/2\n",
        "            else:\n",
        "                insert_bg = (1-bg)/2\n",
        "            PSCM[col].loc[index] = calculate_PWM(PSCM[col].loc[index], total, insert_bg, k)\n",
        "        \n",
        "    PWM = PSCM\n",
        "\n",
        "    return PWM\n",
        "    \n",
        "bg = float(input(\"Background probabilities: \")) # e.g. 0.6\n",
        "k = float(input(\"Pseudo-count: \")) # e.g. 0.25\n",
        "\n",
        "PSCM_data = pd.read_csv(\"/content/drive/MyDrive/BI/HW4/HW#4_PSCM_data.csv\")\n",
        "PSCM_data = PSCM_data.loc[[0,1,2,3,5,6,7,8]] # 필요한 행만 추출\n",
        "PSCM_data.columns = [\"base\",1,2,3,4,5,6,7,8,9,10] # 컬럼명 변경\n",
        "PSCM_data.set_index('base', inplace = True) # 1열을 인덱스로 변경\n",
        "PSCM_data = PSCM_data.astype('float') # 전체를 float로 바꾸기\n",
        "\n",
        "OCT4_1_PSCM = PSCM_data[:4] # OCT4_1에 해당하는 데이터만 추출\n",
        "OCT4_2_PSCM = PSCM_data[4:] # OCT4_2에 해당하는 데이터만 추출\n",
        "\n",
        "# Make PWM dataframe\n",
        "OCT4_1_PWM = MakePWM(OCT4_1_PSCM, bg, k)\n",
        "OCT4_2_PWM = MakePWM(OCT4_2_PSCM, bg, k)\n",
        "\n",
        "OCT4_1_logo = logomaker.Logo(OCT4_1_PWM.transpose())\n",
        "plt.savefig('/content/drive/MyDrive/BI/HW4/OCT4_1_logo.png') # save logo file\n",
        "OCT4_2_logo = logomaker.Logo(OCT4_2_PWM.transpose())\n",
        "plt.savefig('/content/drive/MyDrive/BI/HW4/OCT4_2_logo.png') # save logo file\n",
        "\n",
        "print(\"-\"*115)\n",
        "print('successfully generated two PWMs and their sequence logos. Please check the folder \"/content/drive/MyDrive/BI/HW4/\".\\n')\n",
        "print(\"<OCT4_1_PWM>\")\n",
        "print(OCT4_1_PWM)\n",
        "print(\"\")\n",
        "print(\"<OCT4_2_PWM>\")\n",
        "print(OCT4_2_PWM)\n",
        "print(\"\")\n",
        "print(\"<OCT4_1_logo> & <OCT4_2_logo>\")\n",
        "\n",
        "# Change form\n",
        "OCT4_1_PWM.reset_index(inplace = True) # 인덱스 리셋\n",
        "OCT4_1_PWM.columns = ['> OCT4_1','','','','','','','','','',''] # 컬럼명 변경\n",
        "OCT4_1_PWM.set_index('> OCT4_1', inplace = True) # 1열을 인덱스로 변경\n",
        "\n",
        "OCT4_2_PWM.reset_index(inplace = True) # 인덱스 리셋\n",
        "OCT4_2_PWM.columns = ['> OCT4_2','','','','','','','','','',''] # 컬럼명 변경\n",
        "OCT4_2_PWM.set_index('> OCT4_2', inplace = True) # 1열을 인덱스로 변경\n",
        "\n",
        "# Create csv file\n",
        "OCT4_1_PWM.to_csv(\"/content/drive/MyDrive/BI/HW4/OCT4_1_PWM.csv\")\n",
        "OCT4_2_PWM.to_csv(\"/content/drive/MyDrive/BI/HW4/OCT4_2_PWM.csv\")"
      ],
      "metadata": {
        "id": "HHhI7d7s1BgR",
        "colab": {
          "base_uri": "https://localhost:8080/",
          "height": 1000
        },
        "outputId": "16295942-3196-4672-e972-6acf1c7a002f"
      },
      "execution_count": null,
      "outputs": [
        {
          "name": "stdout",
          "output_type": "stream",
          "text": [
            "Background probabilities: 0.6\n",
            "Pseudo-count: 0.25\n"
          ]
        },
        {
          "output_type": "stream",
          "name": "stderr",
          "text": [
            "/usr/local/lib/python3.7/dist-packages/pandas/core/indexing.py:1732: SettingWithCopyWarning: \n",
            "A value is trying to be set on a copy of a slice from a DataFrame\n",
            "\n",
            "See the caveats in the documentation: https://pandas.pydata.org/pandas-docs/stable/user_guide/indexing.html#returning-a-view-versus-a-copy\n",
            "  self._setitem_single_block(indexer, value, name)\n"
          ]
        },
        {
          "output_type": "stream",
          "name": "stdout",
          "text": [
            "-------------------------------------------------------------------------------------------------------------------\n",
            "successfully generated two PWMs and their sequence logos. Please check the folder \"/content/drive/MyDrive/BI/HW4/\".\n",
            "\n",
            "<OCT4_1_PWM>\n",
            "             1         2         3         4         5         6         7  \\\n",
            "base                                                                         \n",
            "A     0.501705  1.480550 -0.778233 -1.329330 -0.694895  1.560151  1.424529   \n",
            "C    -0.196338 -1.627222 -8.296297 -1.792508  0.887117 -1.854288 -1.920137   \n",
            "G    -0.325787 -8.296297 -1.545976  1.026270 -1.004868 -8.296297 -1.661664   \n",
            "T     0.032395 -1.172624  1.440014 -1.205387 -1.172624 -5.251775 -1.080322   \n",
            "\n",
            "             8         9        10  \n",
            "base                                \n",
            "A     0.593976  0.406712  0.471032  \n",
            "C    -0.552305 -0.263288 -0.402352  \n",
            "G    -0.237653 -0.417384 -0.363337  \n",
            "T     0.133375  0.305421  0.301738  \n",
            "\n",
            "<OCT4_2_PWM>\n",
            "             1         2         3         4         5         6         7  \\\n",
            "base                                                                         \n",
            "A     0.404634  0.991680 -0.595799 -0.429441  0.499792  0.139437 -1.045202   \n",
            "C     0.335759 -0.832992 -1.779368 -0.222520 -1.599512 -0.264944  1.039839   \n",
            "G    -0.566079 -0.832992 -1.198171 -5.993961 -1.779368  0.359249 -1.314921   \n",
            "T    -0.595799  0.000000  1.319925  1.145699  1.028015 -0.595799 -5.993961   \n",
            "\n",
            "             8         9        10  \n",
            "base                                \n",
            "A     1.359120 -2.280389  1.192183  \n",
            "C    -0.690657 -1.198171 -1.447127  \n",
            "G    -1.599512 -0.626429 -0.404219  \n",
            "T    -2.949439  1.292915 -1.045202  \n",
            "\n",
            "<OCT4_1_logo> & <OCT4_2_logo>\n"
          ]
        },
        {
          "output_type": "display_data",
          "data": {
            "text/plain": [
              "<Figure size 720x180 with 1 Axes>"
            ],
            "image/png": "[encoded data removed]"
          },
          "metadata": {
            "needs_background": "light"
          }
        },
        {
          "output_type": "display_data",
          "data": {
            "text/plain": [
              "<Figure size 720x180 with 1 Axes>"
            ],
            "image/png": "[encoded data removed]"
          },
          "metadata": {
            "needs_background": "light"
          }
        }
      ]
    },
    {
      "cell_type": "markdown",
      "source": [
        "# FindMotifs"
      ],
      "metadata": {
        "id": "P1fChj8b_iP7"
      }
    },
    {
      "cell_type": "code",
      "source": [
        "def FindMotifs(seq, PWM_name, t):\n",
        "    TF_name = ''\n",
        "    for ch in PWM_name:\n",
        "        if ch != '_':\n",
        "            TF_name += ch\n",
        "        else:\n",
        "            break\n",
        "    sum_dict = {}\n",
        "    if PWM_name == 'OCT4_1':\n",
        "        OCT4_1_PWM = pd.read_csv(\"/content/drive/MyDrive/BI/HW4/OCT4_1_PWM.csv\") # read csv \n",
        "        OCT4_1_PWM.columns = [\"base\",1,2,3,4,5,6,7,8,9,10] # 컬럼명 변경\n",
        "        OCT4_1_PWM.set_index('base', inplace = True) # 1열을 인덱스로 변경\n",
        "\n",
        "        start = 0\n",
        "        end = len(OCT4_1_PWM.T)\n",
        "        while True:\n",
        "            length = len(seq[start:end])\n",
        "            if length < 10:\n",
        "                break\n",
        "            else:\n",
        "                count = 1\n",
        "                sum = 0\n",
        "                for base in seq[start:end]:\n",
        "                    sum += OCT4_1_PWM.loc[base][count]\n",
        "                    count += 1\n",
        "                \n",
        "                if sum >= t:\n",
        "                    sum_dict[sum] = [start, end] \n",
        "            start += 1\n",
        "            end += 1\n",
        "\n",
        "    elif PWM_name == 'OCT4_2':\n",
        "        OCT4_2_PWM = pd.read_csv(\"/content/drive/MyDrive/BI/HW4/OCT4_2_PWM.csv\") # read csv \n",
        "        OCT4_2_PWM.columns = [\"base\",1,2,3,4,5,6,7,8,9,10] # 컬럼명 변경\n",
        "        OCT4_2_PWM.set_index('base', inplace = True) # 1열을 인덱스로 변경\n",
        "\n",
        "        start = 0\n",
        "        end = len(OCT4_2_PWM.T)\n",
        "        while True:\n",
        "            length = len(seq[start:end])\n",
        "            if length < 10:\n",
        "                break\n",
        "            else:\n",
        "                count = 1\n",
        "                sum = 0\n",
        "                for base in seq[start:end]:\n",
        "                    sum += OCT4_2_PWM.loc[base][count]\n",
        "                    count += 1\n",
        "                \n",
        "                if sum >= t:\n",
        "                    sum_dict[sum] = [start, end] \n",
        "            start += 1\n",
        "            end += 1\n",
        "\n",
        "    num_sites = len(sum_dict)\n",
        "    highest_PWM = max(list(sum_dict.keys()))\n",
        "    site_range = sum_dict[highest_PWM]\n",
        "    hightest_site = seq[site_range[0]:site_range[1]]\n",
        "\n",
        "    print(\"TF name:\", TF_name)\n",
        "    print(\"Position weight matrix name:\", PWM_name)\n",
        "    print(\"Threshold:\", t)\n",
        "    print(\"No.sites:\", num_sites)\n",
        "    print(\"Highest PWM score:\", highest_PWM)\n",
        "    print(\"Highest score binding site:\", hightest_site)\n",
        "\n",
        "    print('')\n",
        "    for i in range(num_sites):\n",
        "        PWM = list(sum_dict.keys())[i]\n",
        "        site_range = sum_dict[PWM]\n",
        "\n",
        "        print(f'{i+1:>2d}: {seq[site_range[0]:site_range[1]]} | {site_range[0]:>3d},{site_range[1]:>3d} | {PWM}')"
      ],
      "metadata": {
        "id": "bNsW9KofqIk3"
      },
      "execution_count": null,
      "outputs": []
    },
    {
      "cell_type": "code",
      "source": [
        "with open(\"/content/drive/MyDrive/BI/HW4/enhancer.txt\", 'r') as f:\n",
        "    seq = f.readlines()\n",
        "seq = seq[1]\n",
        "\n",
        "PWM_name = input(\"PWM name: \") # e.g. OCT4_1\n",
        "threshold = float(input(\"Threshold: \")) # e.g. 0.5\n",
        "FindMotifs(seq, PWM_name, threshold)"
      ],
      "metadata": {
        "colab": {
          "base_uri": "https://localhost:8080/"
        },
        "id": "BfHPqImcz_iM",
        "outputId": "1d5af62a-0dc2-4936-be27-7350ed9fa94b"
      },
      "execution_count": null,
      "outputs": [
        {
          "output_type": "stream",
          "name": "stdout",
          "text": [
            "PWM name: OCT4_1\n",
            "Threshold: 0.5\n",
            "TF name: OCT4\n",
            "Position weight matrix name: OCT4_1\n",
            "Threshold: 0.5\n",
            "No.sites: 18\n",
            "Highest PWM score: 5.785161945274882\n",
            "Highest score binding site: CATGGAACTT\n",
            "\n",
            " 1: TATTAACATA |   5, 15 | 2.0631193803418943\n",
            " 2: TATTAACATG |  29, 39 | 1.228750437261262\n",
            " 3: CATGGAACTT |  35, 45 | 5.785161945274882\n",
            " 4: ACTCCAACAA |  45, 55 | 2.7192240408496584\n",
            " 5: AATACAGATG |  53, 63 | 3.4146024287596597\n",
            " 6: GCTGAATAAA |  62, 72 | 1.769928253010461\n",
            " 7: GAATAAATGT |  65, 75 | 1.478657322336613\n",
            " 8: AATAAATGTA |  66, 76 | 2.416671790012249\n",
            " 9: AATGTAGTCT |  70, 80 | 3.346227382528803\n",
            "10: AAGTGAAGGA |  80, 90 | 1.0266976616983046\n",
            "11: GAAGGAAGAA |  84, 94 | 4.022701954841729\n",
            "12: AAGGAAGAAG |  85, 95 | 1.3034916463496269\n",
            "13: GAAGAAGGAA |  88, 98 | 1.2464825922704352\n",
            "14: GAAGGAAAGG |  91,101 | 3.19586641375841\n",
            "15: AAGGAAAGGT |  92,102 | 3.3990347486319865\n",
            "16: GCTGCCATCA | 106,116 | 1.311752788838674\n",
            "17: GAATAAAGAC | 151,161 | 1.2276337248084257\n",
            "18: AATAAAGACA | 152,162 | 2.0982506244978403\n"
          ]
        }
      ]
    },
    {
      "cell_type": "code",
      "source": [
        "with open(\"/content/drive/MyDrive/BI/HW4/enhancer.txt\", 'r') as f:\n",
        "    seq = f.readlines()\n",
        "seq = seq[1]\n",
        "\n",
        "PWM_name = input(\"PWM name: \") # e.g. OCT4_1\n",
        "threshold = float(input(\"Threshold: \")) # e.g. 0.5\n",
        "FindMotifs(seq, PWM_name, threshold)"
      ],
      "metadata": {
        "id": "YsVCDEhjfcKv",
        "outputId": "ccce1bfa-fffe-44b2-a628-f41f66ecf595",
        "colab": {
          "base_uri": "https://localhost:8080/"
        }
      },
      "execution_count": null,
      "outputs": [
        {
          "output_type": "stream",
          "name": "stdout",
          "text": [
            "PWM name: OCT4_2\n",
            "Threshold: 0.5\n",
            "TF name: OCT4\n",
            "Position weight matrix name: OCT4_2\n",
            "Threshold: 0.5\n",
            "No.sites: 9\n",
            "Highest PWM score: 8.384792319159239\n",
            "Highest score binding site: TATTAACATA\n",
            "\n",
            " 1: TATTAACATA |   5, 15 | 8.384792319159239\n",
            " 2: CATATCCTCA |  11, 21 | 1.0654067316345555\n",
            " 3: AGTATTAACA |  27, 37 | 1.2022728614250635\n",
            " 4: TATTAACATG |  29, 39 | 6.788390439915565\n",
            " 5: ACAATACAGA |  51, 61 | 2.6785664582156468\n",
            " 6: AATACAGATG |  53, 63 | 1.7596177078332969\n",
            " 7: ATGCTGAATA |  60, 70 | 3.170222655601447\n",
            " 8: ACTCAGAATT | 115,125 | 2.0897196923637806\n",
            " 9: AATAAAGACA | 152,162 | 2.9642384061022593\n"
          ]
        }
      ]
    }
  ]
}